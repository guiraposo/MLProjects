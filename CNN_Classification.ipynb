{
  "nbformat": 4,
  "nbformat_minor": 0,
  "metadata": {
    "colab": {
      "provenance": [],
      "authorship_tag": "ABX9TyNB6Wh04YYezK7Rvnnrn0Xz",
      "include_colab_link": true
    },
    "kernelspec": {
      "name": "python3",
      "display_name": "Python 3"
    },
    "language_info": {
      "name": "python"
    }
  },
  "cells": [
    {
      "cell_type": "markdown",
      "metadata": {
        "id": "view-in-github",
        "colab_type": "text"
      },
      "source": [
        "<a href=\"https://colab.research.google.com/github/guiraposo/MLProjects/blob/main/CNN_Classification.ipynb\" target=\"_parent\"><img src=\"https://colab.research.google.com/assets/colab-badge.svg\" alt=\"Open In Colab\"/></a>"
      ]
    },
    {
      "cell_type": "markdown",
      "source": [
        "# Convolutional Neural Network\n",
        "\n",
        "In this notebook we create a template notebook to adapt CNNs in the context of classification problems. This code is adapted from the lecture 40 of [Machine Learning A-Z Course](https://www.udemy.com/course/machinelearning), where we apply the concept of convolutional neural networks to predict if an image represents a dog or a cat."
      ],
      "metadata": {
        "id": "MXEBPnDyPDf-"
      }
    },
    {
      "cell_type": "markdown",
      "source": [
        "### Libraries"
      ],
      "metadata": {
        "id": "NC95xZ4wb9a5"
      }
    },
    {
      "cell_type": "code",
      "execution_count": 2,
      "metadata": {
        "id": "4XMzH8dpO4Pl"
      },
      "outputs": [],
      "source": [
        "# Import relevant libraries\n",
        "import tensorflow as tf\n",
        "from keras.preprocessing.image import ImageDataGenerator\n",
        "tf.__version__"
      ]
    },
    {
      "cell_type": "markdown",
      "source": [
        "### Data preprocessing"
      ],
      "metadata": {
        "id": "9n-GDk8jb1iw"
      }
    },
    {
      "cell_type": "code",
      "source": [
        "# The dataset is already splitted in training set and testing set\n",
        "train_datagen =ImageDataGenerator(\n",
        "    rescale = 1./255,\n",
        "    shear_range = 0.2,\n",
        "    zoom_range = 0.2\n",
        "    horizontal_flip = True)\n",
        "training_set = train_datagen.flow_from_directory(\n",
        "    'dataset/training_set'\n",
        "    target_size = (64, 64),\n",
        "    batch_size = 32,\n",
        "    class_mode = 'binary'\n",
        ")"
      ],
      "metadata": {
        "colab": {
          "base_uri": "https://localhost:8080/",
          "height": 35
        },
        "id": "R8TAlLWuRBuJ",
        "outputId": "b9ee91b3-ed9f-4ff9-e828-ae52a010d7c5"
      },
      "execution_count": 3,
      "outputs": [
        {
          "output_type": "execute_result",
          "data": {
            "text/plain": [
              "'2.15.0'"
            ],
            "application/vnd.google.colaboratory.intrinsic+json": {
              "type": "string"
            }
          },
          "metadata": {},
          "execution_count": 3
        }
      ]
    },
    {
      "cell_type": "code",
      "source": [
        "#Preprocessing test set\n",
        "test_datagen = ImageDataGenerator(\n",
        "    rescale = 1./255\n",
        ")\n",
        "test_set = test_datagen.flow_from_directory(\n",
        "    'dataset/test_set',\n",
        "    target_size = (64,64),\n",
        "    batch_size = 32,\n",
        "    class_mode = 'binary'\n",
        ")"
      ],
      "metadata": {
        "id": "7luOmqQWUq8W"
      },
      "execution_count": null,
      "outputs": []
    },
    {
      "cell_type": "markdown",
      "source": [
        "### Architecture of the neural network.\n"
      ],
      "metadata": {
        "id": "MRZJgos0O9V1"
      }
    },
    {
      "cell_type": "code",
      "source": [
        "cnn = tf.keras.models.Sequential()"
      ],
      "metadata": {
        "id": "YC-LRpaPVAR4"
      },
      "execution_count": null,
      "outputs": []
    },
    {
      "cell_type": "code",
      "source": [
        "#First convolutional layer\n",
        "cnn.add(tf.keras.layers.Conv2D(\n",
        "    filters=32,\n",
        "    kernel_size=3,\n",
        "    activation='relu',\n",
        "    input_shape = [64,64,3]))\n",
        "#First pooling layer\n",
        "cnn.add(tf.keras.layers.MaxPool2D(pool_size=2, strides = 2))\n",
        "#Second convolution layer\n",
        "cnn.add(tf.keras.layers.Conv2D(filters=32, kernel_size=3, activation='relu'))\n",
        "#Second pooling layer\n",
        "cnn.add(tf.keras.layers.MaxPool2D(pool_size=2, strides = 2))\n",
        "#Flattening\n",
        "cnn.add(tf.keras.layers.Flatten())\n",
        "#Add fully connected layer\n",
        "cnn.add(tf.keras.layers.Dense(units=128, activation='relu'))\n",
        "#Add Output layer\n",
        "cnn.add(tf.keras.layers.Dense(units=1, activation = 'sigmoid')) #Only one neuron for binary classification\n"
      ],
      "metadata": {
        "id": "tJ9H_X1OWGMf"
      },
      "execution_count": null,
      "outputs": []
    },
    {
      "cell_type": "markdown",
      "source": [
        "### Training the network"
      ],
      "metadata": {
        "id": "OZ3GLzdNcEAh"
      }
    },
    {
      "cell_type": "markdown",
      "source": [
        "### Predictions"
      ],
      "metadata": {
        "id": "-aPgTtvUcKVS"
      }
    }
  ]
}