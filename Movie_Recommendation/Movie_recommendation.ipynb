{
  "nbformat": 4,
  "nbformat_minor": 0,
  "metadata": {
    "colab": {
      "provenance": [],
      "include_colab_link": true
    },
    "kernelspec": {
      "name": "python3",
      "display_name": "Python 3"
    },
    "language_info": {
      "name": "python"
    }
  },
  "cells": [
    {
      "cell_type": "markdown",
      "metadata": {
        "id": "view-in-github",
        "colab_type": "text"
      },
      "source": [
        "<a href=\"https://colab.research.google.com/github/guiraposo/DataScienceProjects/blob/main/Movie_Recommendation/Movie_recommendation.ipynb\" target=\"_parent\"><img src=\"https://colab.research.google.com/assets/colab-badge.svg\" alt=\"Open In Colab\"/></a>"
      ]
    },
    {
      "cell_type": "code",
      "execution_count": 1,
      "metadata": {
        "id": "8wDca4UfWsO4",
        "outputId": "966732b3-6776-40d4-c38e-705e292a8820",
        "colab": {
          "base_uri": "https://localhost:8080/"
        }
      },
      "outputs": [
        {
          "output_type": "stream",
          "name": "stdout",
          "text": [
            "--2024-02-25 10:28:05--  http://files.grouplens.org/datasets/movielens/ml-100k.zip\n",
            "Resolving files.grouplens.org (files.grouplens.org)... 128.101.65.152\n",
            "Connecting to files.grouplens.org (files.grouplens.org)|128.101.65.152|:80... connected.\n",
            "HTTP request sent, awaiting response... 200 OK\n",
            "Length: 4924029 (4.7M) [application/zip]\n",
            "Saving to: ‘ml-100k.zip’\n",
            "\n",
            "ml-100k.zip         100%[===================>]   4.70M  22.6MB/s    in 0.2s    \n",
            "\n",
            "2024-02-25 10:28:05 (22.6 MB/s) - ‘ml-100k.zip’ saved [4924029/4924029]\n",
            "\n",
            "--2024-02-25 10:28:05--  http://files.grouplens.org/datasets/movielens/ml-1m.zip\n",
            "Resolving files.grouplens.org (files.grouplens.org)... 128.101.65.152\n",
            "Connecting to files.grouplens.org (files.grouplens.org)|128.101.65.152|:80... connected.\n",
            "HTTP request sent, awaiting response... 200 OK\n",
            "Length: 5917549 (5.6M) [application/zip]\n",
            "Saving to: ‘ml-1m.zip’\n",
            "\n",
            "ml-1m.zip           100%[===================>]   5.64M  23.5MB/s    in 0.2s    \n",
            "\n",
            "2024-02-25 10:28:05 (23.5 MB/s) - ‘ml-1m.zip’ saved [5917549/5917549]\n",
            "\n",
            "Archive:  ml-100k.zip\n",
            "   creating: ml-100k/\n",
            "  inflating: ml-100k/allbut.pl       \n",
            "  inflating: ml-100k/mku.sh          \n",
            "  inflating: ml-100k/README          \n",
            "  inflating: ml-100k/u.data          \n",
            "  inflating: ml-100k/u.genre         \n",
            "  inflating: ml-100k/u.info          \n",
            "  inflating: ml-100k/u.item          \n",
            "  inflating: ml-100k/u.occupation    \n",
            "  inflating: ml-100k/u.user          \n",
            "  inflating: ml-100k/u1.base         \n",
            "  inflating: ml-100k/u1.test         \n",
            "  inflating: ml-100k/u2.base         \n",
            "  inflating: ml-100k/u2.test         \n",
            "  inflating: ml-100k/u3.base         \n",
            "  inflating: ml-100k/u3.test         \n",
            "  inflating: ml-100k/u4.base         \n",
            "  inflating: ml-100k/u4.test         \n",
            "  inflating: ml-100k/u5.base         \n",
            "  inflating: ml-100k/u5.test         \n",
            "  inflating: ml-100k/ua.base         \n",
            "  inflating: ml-100k/ua.test         \n",
            "  inflating: ml-100k/ub.base         \n",
            "  inflating: ml-100k/ub.test         \n",
            "Archive:  ml-1m.zip\n",
            "   creating: ml-1m/\n",
            "  inflating: ml-1m/movies.dat        \n",
            "  inflating: ml-1m/ratings.dat       \n",
            "  inflating: ml-1m/README            \n",
            "  inflating: ml-1m/users.dat         \n",
            "ml-100k  ml-100k.zip  ml-1m  ml-1m.zip\tsample_data\n"
          ]
        }
      ],
      "source": [
        "# Get datafiles\n",
        "\n",
        "!wget \"http://files.grouplens.org/datasets/movielens/ml-100k.zip\"\n",
        "!wget \"http://files.grouplens.org/datasets/movielens/ml-1m.zip\"\n",
        "!unzip ml-100k.zip\n",
        "!unzip ml-1m.zip\n",
        "!ls"
      ]
    },
    {
      "cell_type": "code",
      "source": [
        "#Import relevant libraries\n",
        "import numpy as np\n",
        "import pandas as pd\n",
        "import torch\n",
        "import torch.nn as nn\n",
        "import torch.nn.parallel\n",
        "import torch.optim as optim\n",
        "import torch.utils.data\n",
        "from torch.autograd import Variable"
      ],
      "metadata": {
        "id": "XLcPSem7QjUH"
      },
      "execution_count": 2,
      "outputs": []
    },
    {
      "cell_type": "code",
      "source": [
        "#Import the datasets\n",
        "movies = pd.read_csv('ml-1m/movies.dat', sep = '::', header = None, engine = 'python', encoding = 'latin-1')\n",
        "users = pd.read_csv('ml-1m/users.dat', sep = '::', header = None, engine = 'python', encoding = 'latin-1')\n",
        "ratings = pd.read_csv('ml-1m/ratings.dat', sep = '::', header = None, engine = 'python', encoding = 'latin-1')\n"
      ],
      "metadata": {
        "id": "4wAcX3BpRI81"
      },
      "execution_count": 3,
      "outputs": []
    },
    {
      "cell_type": "code",
      "source": [
        "#Preparing the training set and testing set\n",
        "\n",
        "#The training and testing sets.\n",
        "#They are separated with tab. Use delimeter parameter.\n",
        "training_set = pd.read_csv('ml-100k/u1.base', delimiter = '\\t')\n",
        "test_set = pd.read_csv('ml-100k/u1.test', delimiter = '\\t')\n",
        "#Convert to array to use with pytorch\n",
        "training_set = np.array(training_set, dtype = 'int')\n",
        "test_set = np.array(test_set, dtype = 'int')"
      ],
      "metadata": {
        "id": "Jbd6oP-VSCk2"
      },
      "execution_count": 4,
      "outputs": []
    },
    {
      "cell_type": "code",
      "source": [
        "# Extract the maximum number of users and movies\n",
        "nb_users = int(max(max(training_set[:,0]),max(test_set[:,0])))\n",
        "nb_movies = int(max(max(training_set[:,1]),max(test_set[:,1])))"
      ],
      "metadata": {
        "id": "r3toZBSRWSGL"
      },
      "execution_count": 5,
      "outputs": []
    },
    {
      "cell_type": "code",
      "source": [
        "#Convert the data to an array with users in lines and movies in columns\n",
        "#In this form the data willbe suitable to be inputed in a neural network\n",
        "\n",
        "def convert(dataset):\n",
        "  #This function will\n",
        "    new_data = []\n",
        "    for id_user in range(1, nb_users + 1):\n",
        "        id_movies = dataset[:,1][dataset[:,0] == id_user]\n",
        "        id_ratings = dataset[:,2][dataset[:,0] == id_user]\n",
        "        rating_list = np.zeros(nb_movies)\n",
        "        rating_list[id_movies - 1] = id_ratings\n",
        "        new_data.append(list(rating_list))\n",
        "    return new_data"
      ],
      "metadata": {
        "id": "4B3w5rr-Zbil"
      },
      "execution_count": 6,
      "outputs": []
    },
    {
      "cell_type": "code",
      "source": [
        "training_set= convert(training_set)\n",
        "test_set = convert(test_set)"
      ],
      "metadata": {
        "id": "UKl4vJy4dEyR"
      },
      "execution_count": 7,
      "outputs": []
    },
    {
      "cell_type": "code",
      "source": [
        "training_set = torch.FloatTensor(training_set)\n",
        "test_set = torch.FloatTensor(test_set)"
      ],
      "metadata": {
        "id": "nrwDGga4fNBn"
      },
      "execution_count": 8,
      "outputs": []
    },
    {
      "cell_type": "code",
      "source": [
        "# Convert to binary classification\n",
        "training_set[training_set==0] = -1\n",
        "training_set[training_set==1] = 0\n",
        "training_set[training_set==2] = 0\n",
        "training_set[training_set>=3] = 1\n",
        "test_set[test_set==0] = -1\n",
        "test_set[test_set==1] = 0\n",
        "test_set[test_set==2] = 0\n",
        "test_set[test_set>=3] = 1"
      ],
      "metadata": {
        "id": "PB1d588BfO6v"
      },
      "execution_count": 9,
      "outputs": []
    },
    {
      "cell_type": "code",
      "source": [
        "#Creating architecture for the Neural Network. In this case, RBM.\n",
        "class RBM():\n",
        "    def __init__(self, visible_nodes, hidden_nodes):\n",
        "        self.W = torch.randn(hidden_nodes, visible_nodes)\n",
        "        self.a = torch.randn(1, hidden_nodes)\n",
        "        self.b = torch.randn(1, visible_nodes)\n",
        "    def sample_hidden(self, x):\n",
        "        wx = torch.mm(x, self.W.t())\n",
        "        activation = wx + self.a.expand_as(wx) #Check again\n",
        "        p_hidden_given_visible = torch.sigmoid(activation)\n",
        "        return p_hidden_given_visible, torch.bernoulli(p_hidden_given_visible)\n",
        "    def sample_visible(self, y):\n",
        "        wy = torch.mm(y,self.W) #not necessary to transpose here\n",
        "        activation = wy + self.b.expand_as(wy) # Bias of visible\n",
        "        p_visible_given_hidden = torch.sigmoid(activation)\n",
        "        return p_visible_given_hidden, torch.bernoulli(p_visible_given_hidden)\n",
        "    def train (self, v0, vk, ph0, phk):\n",
        "        self.W += (torch.mm(v0.t(), ph0) - torch.mm(vk.t(), phk)).t()\n",
        "        self.b += torch.sum((v0 - vk), 0)\n",
        "        self.a += torch.sum((ph0 - phk), 0)"
      ],
      "metadata": {
        "id": "ebldLEHTzwJw"
      },
      "execution_count": 76,
      "outputs": []
    },
    {
      "cell_type": "code",
      "source": [
        "visible_nodes = len(training_set[0])\n",
        "hidden_nodes  = 100 #Change accordingly. Number of features to detect\n",
        "batch_size = 100 #Change accordingly."
      ],
      "metadata": {
        "id": "-KLoKz4U9kEC"
      },
      "execution_count": 77,
      "outputs": []
    },
    {
      "cell_type": "code",
      "source": [
        "rbm = RBM(visible_nodes, hidden_nodes) #Create RBM class object"
      ],
      "metadata": {
        "id": "2zCzrApO-Mvs"
      },
      "execution_count": 78,
      "outputs": []
    },
    {
      "cell_type": "code",
      "source": [
        "#Training the RBM model.\n",
        "nb_epoch = 10\n",
        "for epoch in range(1,nb_epoch +1):\n",
        "    train_loss = 0\n",
        "    loss_counter = 0. #Counter to normalize the loss\n",
        "    for id_user in range(0, nb_users - batch_size, batch_size):\n",
        "        vk = training_set[id_user:id_user + batch_size]\n",
        "        v0 = training_set[id_user:id_user + batch_size] #Our target.\n",
        "        ph0,_ = rbm.sample_hidden(v0)\n",
        "        for k_step in range(10):\n",
        "            _,hk = rbm.sample_hidden(vk)\n",
        "            _,vk = rbm.sample_visible(hk)\n",
        "            vk[v0 == -1] = v0[v0==-1] # Avoid training the missing values\n",
        "        phk,_ = rbm.sample_hidden(vk)\n",
        "        rbm.train(v0, vk, ph0, phk)\n",
        "        train_loss += torch.mean(torch.abs(v0[v0>=0]-vk[v0>=0])) #Simple distance error\n",
        "        loss_counter += 1.\n",
        "    print('epoch= ' +  str(epoch) + ' loss:' + str(train_loss/loss_counter))\n"
      ],
      "metadata": {
        "id": "8IokVymu_dLV",
        "outputId": "8bd46251-57dc-4934-92e6-4ab2c582f6f9",
        "colab": {
          "base_uri": "https://localhost:8080/"
        }
      },
      "execution_count": 79,
      "outputs": [
        {
          "output_type": "stream",
          "name": "stdout",
          "text": [
            "epoch= 1 loss:tensor(0.3369)\n",
            "epoch= 2 loss:tensor(0.2533)\n",
            "epoch= 3 loss:tensor(0.2501)\n",
            "epoch= 4 loss:tensor(0.2456)\n",
            "epoch= 5 loss:tensor(0.2509)\n",
            "epoch= 6 loss:tensor(0.2476)\n",
            "epoch= 7 loss:tensor(0.2464)\n",
            "epoch= 8 loss:tensor(0.2498)\n",
            "epoch= 9 loss:tensor(0.2491)\n",
            "epoch= 10 loss:tensor(0.2492)\n"
          ]
        }
      ]
    },
    {
      "cell_type": "code",
      "source": [],
      "metadata": {
        "id": "TWHBTyvrHP5L"
      },
      "execution_count": null,
      "outputs": []
    }
  ]
}