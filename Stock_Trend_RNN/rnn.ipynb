{
  "nbformat": 4,
  "nbformat_minor": 0,
  "metadata": {
    "colab": {
      "provenance": [],
      "authorship_tag": "ABX9TyN5jdM5r3Ntw4b7KlVsLqI+",
      "include_colab_link": true
    },
    "kernelspec": {
      "name": "python3",
      "display_name": "Python 3"
    },
    "language_info": {
      "name": "python"
    }
  },
  "cells": [
    {
      "cell_type": "markdown",
      "metadata": {
        "id": "view-in-github",
        "colab_type": "text"
      },
      "source": [
        "<a href=\"https://colab.research.google.com/github/guiraposo/MLProjects/blob/main/Stock_Trend_RNN/rnn.ipynb\" target=\"_parent\"><img src=\"https://colab.research.google.com/assets/colab-badge.svg\" alt=\"Open In Colab\"/></a>"
      ]
    },
    {
      "cell_type": "code",
      "execution_count": 2,
      "metadata": {
        "id": "DVUmE0zKnPgK"
      },
      "outputs": [],
      "source": [
        "#Import the relevant libraries\n",
        "import numpy as np\n",
        "import matplotlib.pyplot as plt\n",
        "import pandas as pd"
      ]
    },
    {
      "cell_type": "code",
      "source": [
        "#Import the training set and test set\n",
        "data_train = pd.read_csv('/content/Google_Stock_Price_Train.csv')\n",
        "training_set = data_train.iloc[:,1:2].values # Get the values in np array form."
      ],
      "metadata": {
        "id": "09G1W1gcoWCl"
      },
      "execution_count": 8,
      "outputs": []
    },
    {
      "cell_type": "code",
      "source": [
        "#Feature scaling\n",
        "#For RNNs it is recommended to use normalization for feature scaling\n",
        "\n",
        "from sklearn.preprocessing import MinMaxScaler\n",
        "sc = MinMaxScaler(feature_range = (0, 1))\n",
        "training_set_scaled = sc.fit_transform(training_set) #Fit and transform the training set\n"
      ],
      "metadata": {
        "id": "9F-OjSh2ouxK"
      },
      "execution_count": 10,
      "outputs": []
    },
    {
      "cell_type": "code",
      "source": [
        "# Creating the a data structure with 60 timesteps (3 months).\n",
        "# Initialization as an empty loop\n",
        "X_train = []\n",
        "y_train = []\n",
        "for day in range(60, 1258):\n",
        "  X_train.append(training_set_scaled[day-60:day, 0]) # Stocks on the 60 previous days\n",
        "  y_train.append(training_set_scaled[day, 0]) # Stock value on the day + 1\n",
        "X_train, y_train = np.array(X_train), np.array(y_train) # Convert to numpy arrays"
      ],
      "metadata": {
        "id": "OuefkCvyqIEO"
      },
      "execution_count": 13,
      "outputs": []
    },
    {
      "cell_type": "code",
      "source": [
        "# Reshaping the data. New dimension for predictors\n",
        "# Will not be implemented here\n",
        "\n",
        "X_train = np.reshape(X_train, (X_train.shape[0],X_train.shape[1], 1))"
      ],
      "metadata": {
        "id": "h6uvOO7bro3W"
      },
      "execution_count": 17,
      "outputs": []
    },
    {
      "cell_type": "code",
      "source": [
        "# Building the RNN\n",
        "from keras.models import Sequential\n",
        "from keras.layers import Dense\n",
        "from keras.layers import LSTM\n",
        "from keras.layers import Dropout"
      ],
      "metadata": {
        "id": "DlS36ZbZs9fK"
      },
      "execution_count": 19,
      "outputs": []
    },
    {
      "cell_type": "code",
      "source": [
        "# Set up the neural network architecture\n",
        "\n",
        "#Initializating the RNN\n",
        "regressor = Sequential()\n",
        "\n",
        "# First LSTM layer and dropout regularization\n",
        "regressor.add(LSTM(units = 50, return_sequences = True, input_shape = (X_train.shape[1], 1)))\n",
        "regressor.add(Dropout(0.2)) # Check\n",
        "\n",
        "# Second LSTM layer + Regularization\n",
        "regressor.add(LSTM(units = 50, return_sequences = True))\n",
        "regressor.add(Dropout(0.2)) # Check\n",
        "# Third LSTM layer + Regularization\n",
        "regressor.add(LSTM(units = 50, return_sequences = True))\n",
        "regressor.add(Dropout(0.2)) # Check\n",
        "\n",
        "# Fourth LSTM layer + Regularization\n",
        "regressor.add(LSTM(units = 50, return_sequences = False)) #Last layer so no return\n",
        "regressor.add(Dropout(0.2)) # Check\n",
        "\n",
        "#Add output layer\n",
        "regressor.add(Dense(units = 1))\n",
        "\n"
      ],
      "metadata": {
        "id": "iSgvgdidtO3c"
      },
      "execution_count": 21,
      "outputs": []
    },
    {
      "cell_type": "code",
      "source": [
        "# Compling the NN\n",
        "\n",
        "regressor.compile(optimizer = 'adam', loss = 'mean_squared_error')\n"
      ],
      "metadata": {
        "id": "2eIkrSYFtUfB"
      },
      "execution_count": 24,
      "outputs": []
    },
    {
      "cell_type": "code",
      "source": [
        "# Fit the RNN to the training set\n",
        "regressor.fit(X_train, y_train, epochs = 100, batch_size = 32)"
      ],
      "metadata": {
        "colab": {
          "base_uri": "https://localhost:8080/"
        },
        "id": "KaoKPHbNv8XG",
        "outputId": "f1ad4372-83c8-4850-9a7e-d4d39bd297a1"
      },
      "execution_count": 25,
      "outputs": [
        {
          "output_type": "stream",
          "name": "stdout",
          "text": [
            "Epoch 1/100\n",
            "38/38 [==============================] - 11s 101ms/step - loss: 0.0057\n",
            "Epoch 2/100\n",
            "38/38 [==============================] - 5s 130ms/step - loss: 0.0042\n",
            "Epoch 3/100\n",
            "38/38 [==============================] - 4s 102ms/step - loss: 0.0038\n",
            "Epoch 4/100\n",
            "38/38 [==============================] - 4s 117ms/step - loss: 0.0041\n",
            "Epoch 5/100\n",
            "38/38 [==============================] - 5s 134ms/step - loss: 0.0037\n",
            "Epoch 6/100\n",
            "38/38 [==============================] - 4s 101ms/step - loss: 0.0034\n",
            "Epoch 7/100\n",
            "38/38 [==============================] - 4s 101ms/step - loss: 0.0040\n",
            "Epoch 8/100\n",
            "38/38 [==============================] - 5s 133ms/step - loss: 0.0032\n",
            "Epoch 9/100\n",
            "38/38 [==============================] - 4s 103ms/step - loss: 0.0033\n",
            "Epoch 10/100\n",
            "38/38 [==============================] - 4s 104ms/step - loss: 0.0037\n",
            "Epoch 11/100\n",
            "38/38 [==============================] - 5s 133ms/step - loss: 0.0036\n",
            "Epoch 12/100\n",
            "38/38 [==============================] - 4s 104ms/step - loss: 0.0029\n",
            "Epoch 13/100\n",
            "38/38 [==============================] - 4s 105ms/step - loss: 0.0035\n",
            "Epoch 14/100\n",
            "38/38 [==============================] - 5s 132ms/step - loss: 0.0030\n",
            "Epoch 15/100\n",
            "38/38 [==============================] - 4s 104ms/step - loss: 0.0027\n",
            "Epoch 16/100\n",
            "38/38 [==============================] - 4s 105ms/step - loss: 0.0029\n",
            "Epoch 17/100\n",
            "38/38 [==============================] - 5s 136ms/step - loss: 0.0028\n",
            "Epoch 18/100\n",
            "38/38 [==============================] - 4s 106ms/step - loss: 0.0027\n",
            "Epoch 19/100\n",
            "38/38 [==============================] - 4s 106ms/step - loss: 0.0029\n",
            "Epoch 20/100\n",
            "38/38 [==============================] - 5s 137ms/step - loss: 0.0026\n",
            "Epoch 21/100\n",
            "38/38 [==============================] - 5s 132ms/step - loss: 0.0025\n",
            "Epoch 22/100\n",
            "38/38 [==============================] - 9s 233ms/step - loss: 0.0025\n",
            "Epoch 23/100\n",
            "38/38 [==============================] - 7s 172ms/step - loss: 0.0023\n",
            "Epoch 24/100\n",
            "38/38 [==============================] - 8s 201ms/step - loss: 0.0024\n",
            "Epoch 25/100\n",
            "38/38 [==============================] - 5s 135ms/step - loss: 0.0024\n",
            "Epoch 26/100\n",
            "38/38 [==============================] - 8s 203ms/step - loss: 0.0021\n",
            "Epoch 27/100\n",
            "38/38 [==============================] - 4s 105ms/step - loss: 0.0026\n",
            "Epoch 28/100\n",
            "38/38 [==============================] - 5s 121ms/step - loss: 0.0024\n",
            "Epoch 29/100\n",
            "38/38 [==============================] - 5s 127ms/step - loss: 0.0020\n",
            "Epoch 30/100\n",
            "38/38 [==============================] - 5s 144ms/step - loss: 0.0021\n",
            "Epoch 31/100\n",
            "38/38 [==============================] - 5s 136ms/step - loss: 0.0023\n",
            "Epoch 32/100\n",
            "38/38 [==============================] - 4s 105ms/step - loss: 0.0025\n",
            "Epoch 33/100\n",
            "38/38 [==============================] - 4s 117ms/step - loss: 0.0021\n",
            "Epoch 34/100\n",
            "38/38 [==============================] - 7s 173ms/step - loss: 0.0021\n",
            "Epoch 35/100\n",
            "38/38 [==============================] - 4s 106ms/step - loss: 0.0024\n",
            "Epoch 36/100\n",
            "38/38 [==============================] - 7s 175ms/step - loss: 0.0022\n",
            "Epoch 37/100\n",
            "38/38 [==============================] - 4s 105ms/step - loss: 0.0021\n",
            "Epoch 38/100\n",
            "38/38 [==============================] - 4s 104ms/step - loss: 0.0020\n",
            "Epoch 39/100\n",
            "38/38 [==============================] - 5s 131ms/step - loss: 0.0019\n",
            "Epoch 40/100\n",
            "38/38 [==============================] - 4s 105ms/step - loss: 0.0020\n",
            "Epoch 41/100\n",
            "38/38 [==============================] - 4s 104ms/step - loss: 0.0018\n",
            "Epoch 42/100\n",
            "38/38 [==============================] - 5s 128ms/step - loss: 0.0020\n",
            "Epoch 43/100\n",
            "38/38 [==============================] - 4s 107ms/step - loss: 0.0017\n",
            "Epoch 44/100\n",
            "38/38 [==============================] - 4s 105ms/step - loss: 0.0017\n",
            "Epoch 45/100\n",
            "38/38 [==============================] - 5s 134ms/step - loss: 0.0017\n",
            "Epoch 46/100\n",
            "38/38 [==============================] - 4s 108ms/step - loss: 0.0017\n",
            "Epoch 47/100\n",
            "38/38 [==============================] - 4s 107ms/step - loss: 0.0019\n",
            "Epoch 48/100\n",
            "38/38 [==============================] - 5s 133ms/step - loss: 0.0018\n",
            "Epoch 49/100\n",
            "38/38 [==============================] - 4s 105ms/step - loss: 0.0016\n",
            "Epoch 50/100\n",
            "38/38 [==============================] - 4s 109ms/step - loss: 0.0020\n",
            "Epoch 51/100\n",
            "38/38 [==============================] - 5s 120ms/step - loss: 0.0017\n",
            "Epoch 52/100\n",
            "38/38 [==============================] - 4s 103ms/step - loss: 0.0016\n",
            "Epoch 53/100\n",
            "38/38 [==============================] - 4s 111ms/step - loss: 0.0015\n",
            "Epoch 54/100\n",
            "38/38 [==============================] - 5s 120ms/step - loss: 0.0016\n",
            "Epoch 55/100\n",
            "38/38 [==============================] - 4s 105ms/step - loss: 0.0015\n",
            "Epoch 56/100\n",
            "38/38 [==============================] - 4s 118ms/step - loss: 0.0016\n",
            "Epoch 57/100\n",
            "38/38 [==============================] - 4s 115ms/step - loss: 0.0014\n",
            "Epoch 58/100\n",
            "38/38 [==============================] - 4s 104ms/step - loss: 0.0015\n",
            "Epoch 59/100\n",
            "38/38 [==============================] - 5s 124ms/step - loss: 0.0014\n",
            "Epoch 60/100\n",
            "38/38 [==============================] - 4s 113ms/step - loss: 0.0015\n",
            "Epoch 61/100\n",
            "38/38 [==============================] - 4s 103ms/step - loss: 0.0015\n",
            "Epoch 62/100\n",
            "38/38 [==============================] - 5s 130ms/step - loss: 0.0015\n",
            "Epoch 63/100\n",
            "38/38 [==============================] - 4s 107ms/step - loss: 0.0014\n",
            "Epoch 64/100\n",
            "38/38 [==============================] - 4s 106ms/step - loss: 0.0016\n",
            "Epoch 65/100\n",
            "38/38 [==============================] - 5s 131ms/step - loss: 0.0016\n",
            "Epoch 66/100\n",
            "38/38 [==============================] - 4s 104ms/step - loss: 0.0015\n",
            "Epoch 67/100\n",
            "38/38 [==============================] - 4s 103ms/step - loss: 0.0015\n",
            "Epoch 68/100\n",
            "38/38 [==============================] - 5s 129ms/step - loss: 0.0013\n",
            "Epoch 69/100\n",
            "38/38 [==============================] - 4s 102ms/step - loss: 0.0013\n",
            "Epoch 70/100\n",
            "38/38 [==============================] - 4s 102ms/step - loss: 0.0015\n",
            "Epoch 71/100\n",
            "38/38 [==============================] - 5s 131ms/step - loss: 0.0015\n",
            "Epoch 72/100\n",
            "38/38 [==============================] - 4s 103ms/step - loss: 0.0016\n",
            "Epoch 73/100\n",
            "38/38 [==============================] - 4s 102ms/step - loss: 0.0013\n",
            "Epoch 74/100\n",
            "38/38 [==============================] - 5s 131ms/step - loss: 0.0013\n",
            "Epoch 75/100\n",
            "38/38 [==============================] - 4s 105ms/step - loss: 0.0013\n",
            "Epoch 76/100\n",
            "38/38 [==============================] - 4s 103ms/step - loss: 0.0013\n",
            "Epoch 77/100\n",
            "38/38 [==============================] - 5s 132ms/step - loss: 0.0013\n",
            "Epoch 78/100\n",
            "38/38 [==============================] - 4s 105ms/step - loss: 0.0014\n",
            "Epoch 79/100\n",
            "38/38 [==============================] - 4s 105ms/step - loss: 0.0015\n",
            "Epoch 80/100\n",
            "38/38 [==============================] - 5s 131ms/step - loss: 0.0013\n",
            "Epoch 81/100\n",
            "38/38 [==============================] - 4s 104ms/step - loss: 0.0014\n",
            "Epoch 82/100\n",
            "38/38 [==============================] - 4s 104ms/step - loss: 0.0013\n",
            "Epoch 83/100\n",
            "38/38 [==============================] - 5s 133ms/step - loss: 0.0014\n",
            "Epoch 84/100\n",
            "38/38 [==============================] - 4s 107ms/step - loss: 0.0013\n",
            "Epoch 85/100\n",
            "38/38 [==============================] - 4s 116ms/step - loss: 0.0014\n",
            "Epoch 86/100\n",
            "38/38 [==============================] - 5s 120ms/step - loss: 0.0013\n",
            "Epoch 87/100\n",
            "38/38 [==============================] - 4s 105ms/step - loss: 0.0012\n",
            "Epoch 88/100\n",
            "38/38 [==============================] - 5s 120ms/step - loss: 0.0012\n",
            "Epoch 89/100\n",
            "38/38 [==============================] - 4s 112ms/step - loss: 0.0012\n",
            "Epoch 90/100\n",
            "38/38 [==============================] - 4s 106ms/step - loss: 0.0013\n",
            "Epoch 91/100\n",
            "38/38 [==============================] - 5s 129ms/step - loss: 0.0012\n",
            "Epoch 92/100\n",
            "38/38 [==============================] - 4s 105ms/step - loss: 0.0012\n",
            "Epoch 93/100\n",
            "38/38 [==============================] - 4s 103ms/step - loss: 0.0013\n",
            "Epoch 94/100\n",
            "38/38 [==============================] - 5s 132ms/step - loss: 0.0014\n",
            "Epoch 95/100\n",
            "38/38 [==============================] - 4s 107ms/step - loss: 0.0012\n",
            "Epoch 96/100\n",
            "38/38 [==============================] - 4s 104ms/step - loss: 0.0012\n",
            "Epoch 97/100\n",
            "38/38 [==============================] - 5s 130ms/step - loss: 0.0014\n",
            "Epoch 98/100\n",
            "38/38 [==============================] - 4s 105ms/step - loss: 0.0013\n",
            "Epoch 99/100\n",
            "38/38 [==============================] - 4s 106ms/step - loss: 0.0011\n",
            "Epoch 100/100\n",
            "38/38 [==============================] - 5s 130ms/step - loss: 0.0011\n"
          ]
        },
        {
          "output_type": "execute_result",
          "data": {
            "text/plain": [
              "<keras.src.callbacks.History at 0x7f5378217d30>"
            ]
          },
          "metadata": {},
          "execution_count": 25
        }
      ]
    },
    {
      "cell_type": "code",
      "source": [
        "dataset_test = pd.read_csv('/content/Google_Stock_Price_Test.csv')\n",
        "real_stock_price = dataset_test.iloc[:,1:2].values"
      ],
      "metadata": {
        "id": "gFdwH57FwyuS"
      },
      "execution_count": 26,
      "outputs": []
    },
    {
      "cell_type": "code",
      "source": [
        "dataset_total = pd.concat((data_train['Open'],dataset_test['Open']),axis = 0)\n",
        "inputs = dataset_total[len(dataset_total) - len(dataset_test)-60:].values\n",
        "inputs = inputs.reshape(-1,1)\n",
        "inputs = sc.transform(inputs)"
      ],
      "metadata": {
        "id": "hpaxMX34x-Mg"
      },
      "execution_count": 28,
      "outputs": []
    },
    {
      "cell_type": "code",
      "source": [
        "# Creating the a data structure with 60 timesteps (3 months).\n",
        "# Initialization as an empty loop\n",
        "X_test = []\n",
        "for day in range(60, 80):\n",
        "  X_test.append(inputs[day-60:day, 0]) # Stocks on the 60 previous days\n",
        "X_test = np.array(X_test)# Convert to numpy arrays\n",
        "X_test = np.reshape(X_test, (X_test.shape[0],X_test.shape[1], 1))"
      ],
      "metadata": {
        "id": "A4DxzO7n0EPZ"
      },
      "execution_count": 29,
      "outputs": []
    },
    {
      "cell_type": "code",
      "source": [
        "predicted_stock_price = regressor.predict(X_test)"
      ],
      "metadata": {
        "id": "oaff007600-k",
        "outputId": "bd34608c-bcd9-4688-bb5d-feee38a74b9c",
        "colab": {
          "base_uri": "https://localhost:8080/"
        }
      },
      "execution_count": 30,
      "outputs": [
        {
          "output_type": "stream",
          "name": "stdout",
          "text": [
            "1/1 [==============================] - 2s 2s/step\n"
          ]
        }
      ]
    },
    {
      "cell_type": "code",
      "source": [
        "predicted_stock_price = sc.inverse_transform(predicted_stock_price)"
      ],
      "metadata": {
        "id": "ajCPgnXe077I"
      },
      "execution_count": 31,
      "outputs": []
    },
    {
      "cell_type": "code",
      "source": [
        "plt.plot(real_stock_price, color = 'red', label = ' Real Google Stock Price')\n",
        "plt.plot(predicted_stock_price, color = 'blue', label = ' Predicted Google Stock Price')\n",
        "plt.title('Google Stock Price Prediction')\n",
        "plt.xlabel('Time')\n",
        "plt.ylabel('Google Stock Price')\n",
        "plt.legend()\n",
        "plt.show()"
      ],
      "metadata": {
        "id": "c-DIBFIk1C3I",
        "outputId": "95b4a723-3e05-4256-b018-cbdcd538286f",
        "colab": {
          "base_uri": "https://localhost:8080/",
          "height": 472
        }
      },
      "execution_count": 36,
      "outputs": [
        {
          "output_type": "display_data",
          "data": {
            "text/plain": [
              "<Figure size 640x480 with 1 Axes>"
            ],
            "image/png": "[encoded data removed]"
          },
          "metadata": {}
        }
      ]
    },
    {
      "cell_type": "code",
      "source": [],
      "metadata": {
        "id": "vh58cExG1T6v"
      },
      "execution_count": null,
      "outputs": []
    }
  ]
}